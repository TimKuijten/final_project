{
 "cells": [
  {
   "cell_type": "code",
   "execution_count": 84,
   "metadata": {},
   "outputs": [],
   "source": [
    "import pandas as pd\n",
    "import dateparser\n",
    "import datetime as datetime\n",
    "import nltk\n",
    "from nltk.sentiment import SentimentIntensityAnalyzer\n",
    "sia = SentimentIntensityAnalyzer()\n",
    "from textblob import TextBlob"
   ]
  },
  {
   "cell_type": "code",
   "execution_count": 85,
   "metadata": {},
   "outputs": [],
   "source": [
    "df_yt = pd.read_csv('df_yt.csv')\n",
    "df_yt_scraped2 = pd.read_csv('df_yt_scraped2.csv')\n",
    "df_yt_scraped3 = pd.read_csv('df_yt_scraped3.csv')\n",
    "df_yt_scraped4 = pd.read_csv('df_yt_scraped4.csv')\n",
    "df_yt_scraped5 = pd.read_csv('df_yt_scraped5.csv')\n",
    "df_yt_scraped6 = pd.read_csv('df_yt_scraped6.csv')\n",
    "df_yt_scraped7 = pd.read_csv('df_yt_scraped7.csv')\n",
    "df_yt_scraped8 = pd.read_csv('df_yt_scraped8.csv')\n",
    "df_yt_scraped9 = pd.read_csv('df_yt_scraped9.csv')\n",
    "df_yt_scraped10 = pd.read_csv('df_yt_scraped10.csv')\n"
   ]
  },
  {
   "cell_type": "code",
   "execution_count": null,
   "metadata": {},
   "outputs": [],
   "source": [
    "df_comments = pd.concat([df_yt_scraped2, df_yt_scraped3, df_yt_scraped4, df_yt_scraped5, df_yt_scraped6, df_yt_scraped7, df_yt_scraped8, df_yt_scraped9, df_yt_scraped10], ignore_index=True)"
   ]
  },
  {
   "cell_type": "code",
   "execution_count": 91,
   "metadata": {},
   "outputs": [],
   "source": [
    "def cleaning_youtube_videos(df):\n",
    "    # Initialize SentimentIntensityAnalyzer\n",
    "    sia = SentimentIntensityAnalyzer()\n",
    "\n",
    "    try:\n",
    "        df = df[df['date'] != 'Unknown'].reset_index(drop=True)\n",
    "    except:\n",
    "        pass\n",
    "\n",
    "    if df['date'].notnull().all():\n",
    "        df['date'] = df['date'].astype(str)\n",
    "\n",
    "    # apply the dateparser.parse() function to the \"date\" column and format the dates\n",
    "    df['date'] = df['date'].apply(lambda x: dateparser.parse(x).strftime('%d-%m-%Y'))\n",
    "\n",
    "\n",
    "    # Calculate Name sentiment and Description sentiment\n",
    "    df['Name sentiment'] = df['Name'].apply(lambda x: sia.polarity_scores(x)['compound'])\n",
    "    df['Description sentiment'] = df['description'].apply(lambda x: sia.polarity_scores(x)['compound'])\n",
    "    \n",
    "    # Calculate Name subjectivity and Description subjectivity\n",
    "    df['Name subjectivity'] = df['Name'].apply(lambda x: TextBlob(x).sentiment.subjectivity)\n",
    "    df['Description subjectivity'] = df['description'].apply(lambda x: TextBlob(x).sentiment.subjectivity)\n",
    "    \n",
    "    # Drop 'Unnamed: 0' column\n",
    "    df = df.drop('Unnamed: 0', axis=1)\n",
    "    \n",
    "    # Rename columns\n",
    "    df = df.rename(columns={'views': 'Views', \n",
    "                            'duration': 'Duration', \n",
    "                            'date': 'Date', \n",
    "                            'description': 'Description', \n",
    "                            'link': 'Link',\n",
    "                            'Name': 'Title',\n",
    "                            'Name subjectivity':'Title subjectivity',\n",
    "                            'Name sentiment':'Title sentiment'})\n",
    "    \n",
    "    # Reorder columns\n",
    "    df = df.reindex(columns=['Title', \n",
    "                             'Title sentiment', \n",
    "                             'Title subjectivity', \n",
    "                             'Views', \n",
    "                             'Duration', \n",
    "                             'Date', \n",
    "                             'Description', \n",
    "                             'Description sentiment', \n",
    "                             'Description subjectivity', \n",
    "                             'Link'])\n",
    "    \n",
    "    return df\n",
    "\n",
    "def cleaning_youtube_comments(df):\n",
    "    # Initialize SentimentIntensityAnalyzer\n",
    "    sia = SentimentIntensityAnalyzer()\n",
    "\n",
    "    df = df[df['Date'] != 'Unknown'].reset_index(drop=True)\n",
    "    df['Comment'] = df['Comment'].astype(str)\n",
    "\n",
    "    if df['Date'].notnull().all():\n",
    "        df['Date'] = df['Date'].astype(str)\n",
    "\n",
    "    # apply the dateparser.parse() function to the \"date\" column and format the dates\n",
    "    df['Date'] = df['Date'].apply(lambda x: dateparser.parse(x).strftime('%d-%m-%Y'))\n",
    "\n",
    "\n",
    "    # Calculate Name sentiment and Description sentiment\n",
    "    df['Comment sentiment'] = df['Comment'].apply(lambda x: sia.polarity_scores(x)['compound'])\n",
    "\n",
    "    # Calculate Name subjectivity and Description subjectivity\n",
    "    df['Comment subjectivity'] = df['Comment'].apply(lambda x: TextBlob(x).sentiment.subjectivity)\n",
    "    \n",
    "    # Drop 'Unnamed: 0' column\n",
    "    df = df.drop('Unnamed: 0', axis=1)\n",
    "    \n",
    "    # Rename columns\n",
    "    df = df.rename(columns={'link': 'Link'})\n",
    "\n",
    "    # Reorder columns\n",
    "    df = df.reindex(columns=['Username', \n",
    "                             'Comment', \n",
    "                             'Comment sentiment', \n",
    "                             'Comment subjectivity', \n",
    "                             'Likes', \n",
    "                             'Replies', \n",
    "                             'Link'])\n",
    "    \n",
    "    return df\n"
   ]
  },
  {
   "cell_type": "code",
   "execution_count": 92,
   "metadata": {},
   "outputs": [],
   "source": [
    "df_yt = cleaning_youtube_videos(df_yt)"
   ]
  },
  {
   "cell_type": "code",
   "execution_count": 94,
   "metadata": {},
   "outputs": [],
   "source": [
    "df_yt.to_csv('./cleaned/df_yt_videos', index=False)"
   ]
  },
  {
   "cell_type": "code",
   "execution_count": 95,
   "metadata": {},
   "outputs": [
    {
     "data": {
      "text/html": [
       "<div>\n",
       "<style scoped>\n",
       "    .dataframe tbody tr th:only-of-type {\n",
       "        vertical-align: middle;\n",
       "    }\n",
       "\n",
       "    .dataframe tbody tr th {\n",
       "        vertical-align: top;\n",
       "    }\n",
       "\n",
       "    .dataframe thead th {\n",
       "        text-align: right;\n",
       "    }\n",
       "</style>\n",
       "<table border=\"1\" class=\"dataframe\">\n",
       "  <thead>\n",
       "    <tr style=\"text-align: right;\">\n",
       "      <th></th>\n",
       "      <th>Unnamed: 0</th>\n",
       "      <th>Username</th>\n",
       "      <th>Comment</th>\n",
       "      <th>Likes</th>\n",
       "      <th>Replies</th>\n",
       "      <th>link</th>\n",
       "    </tr>\n",
       "  </thead>\n",
       "  <tbody>\n",
       "    <tr>\n",
       "      <th>4893</th>\n",
       "      <td>4893</td>\n",
       "      <td>Chandan kumar gupta</td>\n",
       "      <td>What is olympiad</td>\n",
       "      <td>0</td>\n",
       "      <td>0</td>\n",
       "      <td>https://www.youtube.com/watch?v=iyb38dzetRk</td>\n",
       "    </tr>\n",
       "  </tbody>\n",
       "</table>\n",
       "</div>"
      ],
      "text/plain": [
       "      Unnamed: 0                                       Username  \\\n",
       "4893        4893                Chandan kumar gupta               \n",
       "\n",
       "               Comment Likes Replies  \\\n",
       "4893  What is olympiad     0       0   \n",
       "\n",
       "                                             link  \n",
       "4893  https://www.youtube.com/watch?v=iyb38dzetRk  "
      ]
     },
     "execution_count": 95,
     "metadata": {},
     "output_type": "execute_result"
    }
   ],
   "source": [
    "df_yt_comments = cleaning_youtube_comments(df_comments)"
   ]
  },
  {
   "cell_type": "code",
   "execution_count": 96,
   "metadata": {},
   "outputs": [],
   "source": [
    "df_yt_comments.to_csv('./cleaned/df_yt_comments', index=False)"
   ]
  },
  {
   "cell_type": "code",
   "execution_count": null,
   "metadata": {},
   "outputs": [],
   "source": []
  }
 ],
 "metadata": {
  "kernelspec": {
   "display_name": "base",
   "language": "python",
   "name": "python3"
  },
  "language_info": {
   "codemirror_mode": {
    "name": "ipython",
    "version": 3
   },
   "file_extension": ".py",
   "mimetype": "text/x-python",
   "name": "python",
   "nbconvert_exporter": "python",
   "pygments_lexer": "ipython3",
   "version": "3.10.8"
  },
  "orig_nbformat": 4
 },
 "nbformat": 4,
 "nbformat_minor": 2
}
