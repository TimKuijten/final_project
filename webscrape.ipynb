{
 "cells": [
  {
   "cell_type": "code",
   "execution_count": 1,
   "metadata": {},
   "outputs": [],
   "source": [
    "import chromedriver_autoinstaller"
   ]
  },
  {
   "cell_type": "code",
   "execution_count": 44,
   "metadata": {},
   "outputs": [],
   "source": [
    "# pip install selenium\n",
    "from selenium import webdriver\n",
    "from selenium.webdriver.common.keys import Keys\n",
    "from selenium.webdriver.common.by import By\n",
    "from selenium.webdriver.support.ui import WebDriverWait\n",
    "from selenium.webdriver.support import expected_conditions as EC\n",
    "from selenium import webdriver\n",
    "from selenium.webdriver.support.ui import Select\n",
    "from bs4 import BeautifulSoup\n",
    "import time\n",
    "import pandas as pd\n",
    "import re"
   ]
  },
  {
   "cell_type": "code",
   "execution_count": 50,
   "metadata": {},
   "outputs": [],
   "source": [
    "youtube = []\n",
    "driver = webdriver.Chrome()\n",
    "url = \"https://www.youtube.com/results?search_query=artificial+intelligence\"\n",
    "driver.get(url)\n",
    "options = webdriver.ChromeOptions()\n",
    "options.add_argument(\"--incognito\")\n",
    "\n",
    "wait = WebDriverWait(driver, 10)\n",
    "cookie_consent = wait.until(EC.element_to_be_clickable((By.XPATH, '//button[@aria-label=\"Accept the use of cookies and other data for the purposes described\"]')))\n",
    "cookie_consent.click()\n",
    "\n",
    "#while True:\n",
    "#    scroll_height = 10000\n",
    "#    document_height_before = driver.execute_script(\"return document.documentElement.scrollHeight\")\n",
    "#    driver.execute_script(f\"window.scrollTo(0, {document_height_before + scroll_height});\")\n",
    "#    time.sleep(3)\n",
    "#    document_height_after = driver.execute_script(\"return document.documentElement.scrollHeight\") \n",
    "#    if document_height_after == document_height_before:\n",
    "#        break\n",
    "\n",
    "# Extract the HTML and parse it with BeautifulSoup\n",
    "html = driver.execute_script(\"return document.body.outerHTML;\")\n",
    "soup = BeautifulSoup(html, \"html.parser\")\n",
    "\n",
    "video_name = soup.find(\"yt-formatted-string\", class_=\"style-scope ytd-video-renderer\")\n",
    "video_title = video_name.getText().strip()\n",
    "video_link = [a.get('href') for a in soup.find_all('a', class_= 'yt-simple-endpoint style-scope ytd-video-renderer', href=True)]\n",
    "#video_views = soup.find_all(\"span\", class_=\"inline-metadata-item style-scope ytd-video-meta-bloc\")\n",
    "#video_upload = soup.find_all(\"span\", class_=\"inline-metadata-item style-scope ytd-video-meta-bloc\")\n",
    "\n",
    "\n",
    "\n",
    "# Zip to add all values in a tuple for each restaurant\n",
    "rows = list(zip(video_title))\n",
    "#, video_link, video_views, video_upload))\n",
    "youtube.extend(rows)\n",
    "        \n",
    "df_yt = pd.DataFrame(youtube, columns=['Name'])\n",
    "\n"
   ]
  },
  {
   "cell_type": "code",
   "execution_count": 49,
   "metadata": {},
   "outputs": [
    {
     "name": "stdout",
     "output_type": "stream",
     "text": [
      "What Is Artificial Intelligence? | 🔥Artificial Intelligence Course | AI In 5 Minutes | |Simplilearn\n"
     ]
    }
   ],
   "source": []
  },
  {
   "cell_type": "code",
   "execution_count": 51,
   "metadata": {},
   "outputs": [
    {
     "data": {
      "text/html": [
       "<div>\n",
       "<style scoped>\n",
       "    .dataframe tbody tr th:only-of-type {\n",
       "        vertical-align: middle;\n",
       "    }\n",
       "\n",
       "    .dataframe tbody tr th {\n",
       "        vertical-align: top;\n",
       "    }\n",
       "\n",
       "    .dataframe thead th {\n",
       "        text-align: right;\n",
       "    }\n",
       "</style>\n",
       "<table border=\"1\" class=\"dataframe\">\n",
       "  <thead>\n",
       "    <tr style=\"text-align: right;\">\n",
       "      <th></th>\n",
       "      <th>Name</th>\n",
       "    </tr>\n",
       "  </thead>\n",
       "  <tbody>\n",
       "    <tr>\n",
       "      <th>0</th>\n",
       "      <td>W</td>\n",
       "    </tr>\n",
       "    <tr>\n",
       "      <th>1</th>\n",
       "      <td>h</td>\n",
       "    </tr>\n",
       "    <tr>\n",
       "      <th>2</th>\n",
       "      <td>a</td>\n",
       "    </tr>\n",
       "    <tr>\n",
       "      <th>3</th>\n",
       "      <td>t</td>\n",
       "    </tr>\n",
       "    <tr>\n",
       "      <th>4</th>\n",
       "      <td></td>\n",
       "    </tr>\n",
       "    <tr>\n",
       "      <th>...</th>\n",
       "      <td>...</td>\n",
       "    </tr>\n",
       "    <tr>\n",
       "      <th>94</th>\n",
       "      <td>l</td>\n",
       "    </tr>\n",
       "    <tr>\n",
       "      <th>95</th>\n",
       "      <td>e</td>\n",
       "    </tr>\n",
       "    <tr>\n",
       "      <th>96</th>\n",
       "      <td>a</td>\n",
       "    </tr>\n",
       "    <tr>\n",
       "      <th>97</th>\n",
       "      <td>r</td>\n",
       "    </tr>\n",
       "    <tr>\n",
       "      <th>98</th>\n",
       "      <td>n</td>\n",
       "    </tr>\n",
       "  </tbody>\n",
       "</table>\n",
       "<p>99 rows × 1 columns</p>\n",
       "</div>"
      ],
      "text/plain": [
       "   Name\n",
       "0     W\n",
       "1     h\n",
       "2     a\n",
       "3     t\n",
       "4      \n",
       "..  ...\n",
       "94    l\n",
       "95    e\n",
       "96    a\n",
       "97    r\n",
       "98    n\n",
       "\n",
       "[99 rows x 1 columns]"
      ]
     },
     "execution_count": 51,
     "metadata": {},
     "output_type": "execute_result"
    }
   ],
   "source": []
  },
  {
   "cell_type": "code",
   "execution_count": 93,
   "metadata": {},
   "outputs": [
    {
     "ename": "AttributeError",
     "evalue": "'NoneType' object has no attribute 'group'",
     "output_type": "error",
     "traceback": [
      "\u001b[1;31m---------------------------------------------------------------------------\u001b[0m",
      "\u001b[1;31mAttributeError\u001b[0m                            Traceback (most recent call last)",
      "\u001b[1;32mc:\\Users\\Tim_K\\Ironhack\\final_project\\webscrape.ipynb Cell 6\u001b[0m in \u001b[0;36m<cell line: 25>\u001b[1;34m()\u001b[0m\n\u001b[0;32m     <a href='vscode-notebook-cell:/c%3A/Users/Tim_K/Ironhack/final_project/webscrape.ipynb#W4sZmlsZQ%3D%3D?line=26'>27</a>\u001b[0m link \u001b[39m=\u001b[39m \u001b[39m\"\u001b[39m\u001b[39mhttps://www.youtube.com\u001b[39m\u001b[39m\"\u001b[39m \u001b[39m+\u001b[39m video\u001b[39m.\u001b[39mfind(\u001b[39m\"\u001b[39m\u001b[39ma\u001b[39m\u001b[39m\"\u001b[39m, class_\u001b[39m=\u001b[39m\u001b[39m\"\u001b[39m\u001b[39myt-simple-endpoint style-scope ytd-video-renderer\u001b[39m\u001b[39m\"\u001b[39m)[\u001b[39m'\u001b[39m\u001b[39mhref\u001b[39m\u001b[39m'\u001b[39m]\n\u001b[0;32m     <a href='vscode-notebook-cell:/c%3A/Users/Tim_K/Ironhack/final_project/webscrape.ipynb#W4sZmlsZQ%3D%3D?line=27'>28</a>\u001b[0m info \u001b[39m=\u001b[39m video\u001b[39m.\u001b[39mfind(\u001b[39m\"\u001b[39m\u001b[39myt-formatted-string\u001b[39m\u001b[39m\"\u001b[39m, class_\u001b[39m=\u001b[39m\u001b[39m\"\u001b[39m\u001b[39mstyle-scope ytd-video-renderer\u001b[39m\u001b[39m\"\u001b[39m)\u001b[39m.\u001b[39mget(\u001b[39m\"\u001b[39m\u001b[39maria-label\u001b[39m\u001b[39m\"\u001b[39m)\u001b[39m.\u001b[39msplit(\u001b[39m\"\u001b[39m\u001b[39m by \u001b[39m\u001b[39m\"\u001b[39m)\n\u001b[1;32m---> <a href='vscode-notebook-cell:/c%3A/Users/Tim_K/Ironhack/final_project/webscrape.ipynb#W4sZmlsZQ%3D%3D?line=28'>29</a>\u001b[0m views \u001b[39m=\u001b[39m re\u001b[39m.\u001b[39;49msearch(\u001b[39mr\u001b[39;49m\u001b[39m'\u001b[39;49m\u001b[39m(\u001b[39;49m\u001b[39m\\\u001b[39;49m\u001b[39md,+)\u001b[39;49m\u001b[39m\\\u001b[39;49m\u001b[39ms*(views|view)\u001b[39;49m\u001b[39m'\u001b[39;49m, info[\u001b[39m1\u001b[39;49m])\u001b[39m.\u001b[39;49mgroup(\u001b[39m1\u001b[39m)\n\u001b[0;32m     <a href='vscode-notebook-cell:/c%3A/Users/Tim_K/Ironhack/final_project/webscrape.ipynb#W4sZmlsZQ%3D%3D?line=29'>30</a>\u001b[0m duration \u001b[39m=\u001b[39m info[\u001b[39m0\u001b[39m]\n\u001b[0;32m     <a href='vscode-notebook-cell:/c%3A/Users/Tim_K/Ironhack/final_project/webscrape.ipynb#W4sZmlsZQ%3D%3D?line=30'>31</a>\u001b[0m date \u001b[39m=\u001b[39m re\u001b[39m.\u001b[39msearch(\u001b[39mr\u001b[39m\u001b[39m'\u001b[39m\u001b[39m\\\u001b[39m\u001b[39md\u001b[39m\u001b[39m{\u001b[39m\u001b[39m1,2}\u001b[39m\u001b[39m\\\u001b[39m\u001b[39ms\u001b[39m\u001b[39m\\\u001b[39m\u001b[39mw+\u001b[39m\u001b[39m\\\u001b[39m\u001b[39ms\u001b[39m\u001b[39m\\\u001b[39m\u001b[39mw\u001b[39m\u001b[39m{3}\u001b[39;00m\u001b[39m'\u001b[39m, info[\u001b[39m1\u001b[39m])\u001b[39m.\u001b[39mgroup()\n",
      "\u001b[1;31mAttributeError\u001b[0m: 'NoneType' object has no attribute 'group'"
     ]
    }
   ],
   "source": [
    "from selenium.webdriver.common.by import By\n",
    "from selenium.webdriver.support.ui import WebDriverWait\n",
    "from selenium.webdriver.support import expected_conditions as EC\n",
    "from selenium import webdriver\n",
    "from bs4 import BeautifulSoup\n",
    "import pandas as pd\n",
    "import re\n",
    "\n",
    "driver = webdriver.Chrome()\n",
    "url = \"https://www.youtube.com/results?search_query=artificial+intelligence\"\n",
    "driver.get(url)\n",
    "options = webdriver.ChromeOptions()\n",
    "options.add_argument(\"--incognito\")\n",
    "\n",
    "wait = WebDriverWait(driver, 10)\n",
    "cookie_consent = wait.until(EC.element_to_be_clickable((By.XPATH, '//button[@aria-label=\"Accept the use of cookies and other data for the purposes described\"]')))\n",
    "cookie_consent.click()\n",
    "\n",
    "html = driver.execute_script(\"return document.body.outerHTML;\")\n",
    "soup = BeautifulSoup(html, \"html.parser\")\n",
    "\n",
    "videos = soup.find_all(\"div\", class_=\"text-wrapper style-scope ytd-video-renderer\")\n",
    "\n",
    "rows = []\n",
    "for video in videos:\n",
    "    name = video.find(\"yt-formatted-string\", class_=\"style-scope ytd-video-renderer\").text\n",
    "    link = \"https://www.youtube.com\" + video.find(\"a\", class_=\"yt-simple-endpoint style-scope ytd-video-renderer\")['href']\n",
    "    info = video.find(\"yt-formatted-string\", class_=\"style-scope ytd-video-renderer\").get(\"aria-label\").split(\" by \")\n",
    "    views = re.search(r'(\\d,+)\\s*(views|view)', info[1]).group(1)\n",
    "    duration = info[0]\n",
    "    date = re.search(r'\\d{1,2}\\s\\w+\\s\\w{3}', info[1]).group()\n",
    "\n",
    "    rows.append([name, views, duration, date, link])\n",
    "\n",
    "df_yt = pd.DataFrame(rows, columns=['Name', 'Views', 'Duration', 'Date', 'Link'])\n"
   ]
  },
  {
   "cell_type": "code",
   "execution_count": 92,
   "metadata": {},
   "outputs": [
    {
     "data": {
      "text/html": [
       "<div>\n",
       "<style scoped>\n",
       "    .dataframe tbody tr th:only-of-type {\n",
       "        vertical-align: middle;\n",
       "    }\n",
       "\n",
       "    .dataframe tbody tr th {\n",
       "        vertical-align: top;\n",
       "    }\n",
       "\n",
       "    .dataframe thead th {\n",
       "        text-align: right;\n",
       "    }\n",
       "</style>\n",
       "<table border=\"1\" class=\"dataframe\">\n",
       "  <thead>\n",
       "    <tr style=\"text-align: right;\">\n",
       "      <th></th>\n",
       "      <th>Name</th>\n",
       "      <th>Views</th>\n",
       "      <th>Duration</th>\n",
       "      <th>Date</th>\n",
       "      <th>Link</th>\n",
       "    </tr>\n",
       "  </thead>\n",
       "  <tbody>\n",
       "  </tbody>\n",
       "</table>\n",
       "</div>"
      ],
      "text/plain": [
       "Empty DataFrame\n",
       "Columns: [Name, Views, Duration, Date, Link]\n",
       "Index: []"
      ]
     },
     "execution_count": 92,
     "metadata": {},
     "output_type": "execute_result"
    }
   ],
   "source": [
    "df_yt"
   ]
  },
  {
   "cell_type": "code",
   "execution_count": null,
   "metadata": {},
   "outputs": [],
   "source": []
  }
 ],
 "metadata": {
  "kernelspec": {
   "display_name": "base",
   "language": "python",
   "name": "python3"
  },
  "language_info": {
   "codemirror_mode": {
    "name": "ipython",
    "version": 3
   },
   "file_extension": ".py",
   "mimetype": "text/x-python",
   "name": "python",
   "nbconvert_exporter": "python",
   "pygments_lexer": "ipython3",
   "version": "3.10.8"
  },
  "orig_nbformat": 4
 },
 "nbformat": 4,
 "nbformat_minor": 2
}
